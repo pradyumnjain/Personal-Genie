{
 "cells": [
  {
   "cell_type": "code",
   "execution_count": 1,
   "metadata": {},
   "outputs": [],
   "source": [
    "import numpy as np\n",
    "import pandas as pd"
   ]
  },
  {
   "cell_type": "code",
   "execution_count": 2,
   "metadata": {},
   "outputs": [],
   "source": [
    "data = pd.read_csv(\"laptops_dataframe.csv\", skipinitialspace=True)"
   ]
  },
  {
   "cell_type": "code",
   "execution_count": 3,
   "metadata": {},
   "outputs": [
    {
     "data": {
      "text/html": [
       "<div>\n",
       "<style scoped>\n",
       "    .dataframe tbody tr th:only-of-type {\n",
       "        vertical-align: middle;\n",
       "    }\n",
       "\n",
       "    .dataframe tbody tr th {\n",
       "        vertical-align: top;\n",
       "    }\n",
       "\n",
       "    .dataframe thead th {\n",
       "        text-align: right;\n",
       "    }\n",
       "</style>\n",
       "<table border=\"1\" class=\"dataframe\">\n",
       "  <thead>\n",
       "    <tr style=\"text-align: right;\">\n",
       "      <th></th>\n",
       "      <th>brand</th>\n",
       "      <th>laptop_name</th>\n",
       "      <th>display_size</th>\n",
       "      <th>processor_type</th>\n",
       "      <th>graphics_card</th>\n",
       "      <th>disk_space</th>\n",
       "      <th>discount_price</th>\n",
       "      <th>old_price</th>\n",
       "      <th>ratings_5max</th>\n",
       "    </tr>\n",
       "  </thead>\n",
       "  <tbody>\n",
       "    <tr>\n",
       "      <th>0</th>\n",
       "      <td>HP</td>\n",
       "      <td>Notebook 14-df0008nx</td>\n",
       "      <td>14.00</td>\n",
       "      <td>Intel Celeron N4000</td>\n",
       "      <td>Intel HD Graphics 600</td>\n",
       "      <td>64 GB (eMMC)</td>\n",
       "      <td>1259.0</td>\n",
       "      <td>1259.0</td>\n",
       "      <td>0 / 5</td>\n",
       "    </tr>\n",
       "    <tr>\n",
       "      <th>1</th>\n",
       "      <td>Lenovo</td>\n",
       "      <td>IdeaPad 330S-14IKB</td>\n",
       "      <td>14.00</td>\n",
       "      <td>Intel Core i5-8250U</td>\n",
       "      <td>Intel UHD Graphics 620</td>\n",
       "      <td>1 TB HDD</td>\n",
       "      <td>1849.0</td>\n",
       "      <td>2099.0</td>\n",
       "      <td>3.3 / 5</td>\n",
       "    </tr>\n",
       "    <tr>\n",
       "      <th>2</th>\n",
       "      <td>Huawei</td>\n",
       "      <td>MateBook D Volta</td>\n",
       "      <td>14.00</td>\n",
       "      <td>Intel Core i5-8250U</td>\n",
       "      <td>NVIDIA GeForce MX150 (2 GB)</td>\n",
       "      <td>256 GB SSD</td>\n",
       "      <td>2999.0</td>\n",
       "      <td>3799.0</td>\n",
       "      <td>0 / 5</td>\n",
       "    </tr>\n",
       "    <tr>\n",
       "      <th>3</th>\n",
       "      <td>Dell</td>\n",
       "      <td>Inspiron 15 3567</td>\n",
       "      <td>15.60</td>\n",
       "      <td>Intel Core i3-7020U</td>\n",
       "      <td>Intel HD Graphics 620</td>\n",
       "      <td>1 TB HDD</td>\n",
       "      <td>1849.0</td>\n",
       "      <td>1849.0</td>\n",
       "      <td>0 / 5</td>\n",
       "    </tr>\n",
       "    <tr>\n",
       "      <th>4</th>\n",
       "      <td>Asus</td>\n",
       "      <td>VivoBook 15 X510UR</td>\n",
       "      <td>15.60</td>\n",
       "      <td>Intel Core i7-8550U</td>\n",
       "      <td>NVIDIA GeForce 930MX (2 GB)</td>\n",
       "      <td>1 TB HDD</td>\n",
       "      <td>2499.0</td>\n",
       "      <td>3149.0</td>\n",
       "      <td>0 / 5</td>\n",
       "    </tr>\n",
       "    <tr>\n",
       "      <th>5</th>\n",
       "      <td>Dell</td>\n",
       "      <td>Vostro 5471</td>\n",
       "      <td>14.00</td>\n",
       "      <td>Intel Core i7-8550U</td>\n",
       "      <td>AMD Radeon 530 (4 GB)</td>\n",
       "      <td>128 GB SSD/1 TB HDD</td>\n",
       "      <td>3799.0</td>\n",
       "      <td>3799.0</td>\n",
       "      <td>3.8 / 5</td>\n",
       "    </tr>\n",
       "    <tr>\n",
       "      <th>6</th>\n",
       "      <td>Apple</td>\n",
       "      <td>MacBook Air (Retina)</td>\n",
       "      <td>13.30</td>\n",
       "      <td>Intel Core i5 Dual Core</td>\n",
       "      <td>Intel UHD Graphics 617</td>\n",
       "      <td>128 GB (PCIe SSD)</td>\n",
       "      <td>4649.0</td>\n",
       "      <td>5199.0</td>\n",
       "      <td>4.0 / 5</td>\n",
       "    </tr>\n",
       "    <tr>\n",
       "      <th>7</th>\n",
       "      <td>Huawei</td>\n",
       "      <td>MateBook D</td>\n",
       "      <td>15.60</td>\n",
       "      <td>Intel Core i5-8250U</td>\n",
       "      <td>NVIDIA GeForce MX150 (2 GB)</td>\n",
       "      <td>128 GB SSD/1 TB HDD</td>\n",
       "      <td>2449.0</td>\n",
       "      <td>2799.0</td>\n",
       "      <td>4.4 / 5</td>\n",
       "    </tr>\n",
       "    <tr>\n",
       "      <th>8</th>\n",
       "      <td>Huawei</td>\n",
       "      <td>MateBook X Pro</td>\n",
       "      <td>13.88</td>\n",
       "      <td>Intel Core i5-8250U</td>\n",
       "      <td>NVIDIA GeForce MX150 (2 GB)</td>\n",
       "      <td>256 GB NVMe M.2 SSD</td>\n",
       "      <td>4999.0</td>\n",
       "      <td>5999.0</td>\n",
       "      <td>0 / 5</td>\n",
       "    </tr>\n",
       "    <tr>\n",
       "      <th>9</th>\n",
       "      <td>HP</td>\n",
       "      <td>14-cf0007nx</td>\n",
       "      <td>14.00</td>\n",
       "      <td>Intel Core i5-8250U</td>\n",
       "      <td>AMD Radeon 530 (2 GB)</td>\n",
       "      <td>16 GB (Optane)/1 TB HDD</td>\n",
       "      <td>2629.0</td>\n",
       "      <td>2629.0</td>\n",
       "      <td>0 / 5</td>\n",
       "    </tr>\n",
       "  </tbody>\n",
       "</table>\n",
       "</div>"
      ],
      "text/plain": [
       "    brand           laptop_name  display_size           processor_type  \\\n",
       "0      HP  Notebook 14-df0008nx         14.00      Intel Celeron N4000   \n",
       "1  Lenovo    IdeaPad 330S-14IKB         14.00      Intel Core i5-8250U   \n",
       "2  Huawei      MateBook D Volta         14.00      Intel Core i5-8250U   \n",
       "3    Dell      Inspiron 15 3567         15.60      Intel Core i3-7020U   \n",
       "4    Asus    VivoBook 15 X510UR         15.60      Intel Core i7-8550U   \n",
       "5    Dell           Vostro 5471         14.00      Intel Core i7-8550U   \n",
       "6   Apple  MacBook Air (Retina)         13.30  Intel Core i5 Dual Core   \n",
       "7  Huawei            MateBook D         15.60      Intel Core i5-8250U   \n",
       "8  Huawei        MateBook X Pro         13.88      Intel Core i5-8250U   \n",
       "9      HP           14-cf0007nx         14.00      Intel Core i5-8250U   \n",
       "\n",
       "                 graphics_card               disk_space  discount_price  \\\n",
       "0        Intel HD Graphics 600             64 GB (eMMC)          1259.0   \n",
       "1       Intel UHD Graphics 620                 1 TB HDD          1849.0   \n",
       "2  NVIDIA GeForce MX150 (2 GB)               256 GB SSD          2999.0   \n",
       "3        Intel HD Graphics 620                 1 TB HDD          1849.0   \n",
       "4  NVIDIA GeForce 930MX (2 GB)                 1 TB HDD          2499.0   \n",
       "5        AMD Radeon 530 (4 GB)      128 GB SSD/1 TB HDD          3799.0   \n",
       "6       Intel UHD Graphics 617        128 GB (PCIe SSD)          4649.0   \n",
       "7  NVIDIA GeForce MX150 (2 GB)      128 GB SSD/1 TB HDD          2449.0   \n",
       "8  NVIDIA GeForce MX150 (2 GB)      256 GB NVMe M.2 SSD          4999.0   \n",
       "9        AMD Radeon 530 (2 GB)  16 GB (Optane)/1 TB HDD          2629.0   \n",
       "\n",
       "   old_price ratings_5max  \n",
       "0     1259.0        0 / 5  \n",
       "1     2099.0      3.3 / 5  \n",
       "2     3799.0        0 / 5  \n",
       "3     1849.0        0 / 5  \n",
       "4     3149.0        0 / 5  \n",
       "5     3799.0      3.8 / 5  \n",
       "6     5199.0      4.0 / 5  \n",
       "7     2799.0      4.4 / 5  \n",
       "8     5999.0        0 / 5  \n",
       "9     2629.0        0 / 5  "
      ]
     },
     "execution_count": 3,
     "metadata": {},
     "output_type": "execute_result"
    }
   ],
   "source": [
    "data.head(10)"
   ]
  },
  {
   "cell_type": "code",
   "execution_count": 4,
   "metadata": {},
   "outputs": [
    {
     "data": {
      "text/plain": [
       "Index(['brand', 'laptop_name', 'display_size', 'processor_type',\n",
       "       'graphics_card', 'disk_space', 'discount_price', 'old_price',\n",
       "       'ratings_5max'],\n",
       "      dtype='object')"
      ]
     },
     "execution_count": 4,
     "metadata": {},
     "output_type": "execute_result"
    }
   ],
   "source": [
    "data.columns.unique()"
   ]
  },
  {
   "cell_type": "code",
   "execution_count": 16,
   "metadata": {},
   "outputs": [],
   "source": [
    "data.drop(\"ratings_5max\",axis=1,inplace=True)"
   ]
  },
  {
   "cell_type": "code",
   "execution_count": 17,
   "metadata": {},
   "outputs": [
    {
     "data": {
      "text/html": [
       "<div>\n",
       "<style scoped>\n",
       "    .dataframe tbody tr th:only-of-type {\n",
       "        vertical-align: middle;\n",
       "    }\n",
       "\n",
       "    .dataframe tbody tr th {\n",
       "        vertical-align: top;\n",
       "    }\n",
       "\n",
       "    .dataframe thead th {\n",
       "        text-align: right;\n",
       "    }\n",
       "</style>\n",
       "<table border=\"1\" class=\"dataframe\">\n",
       "  <thead>\n",
       "    <tr style=\"text-align: right;\">\n",
       "      <th></th>\n",
       "      <th>brand</th>\n",
       "      <th>laptop_name</th>\n",
       "      <th>display_size</th>\n",
       "      <th>processor_type</th>\n",
       "      <th>graphics_card</th>\n",
       "      <th>disk_space</th>\n",
       "      <th>discount_price</th>\n",
       "      <th>old_price</th>\n",
       "    </tr>\n",
       "  </thead>\n",
       "  <tbody>\n",
       "    <tr>\n",
       "      <th>0</th>\n",
       "      <td>HP</td>\n",
       "      <td>Notebook 14-df0008nx</td>\n",
       "      <td>14.0</td>\n",
       "      <td>Intel Celeron N4000</td>\n",
       "      <td>Intel HD Graphics 600</td>\n",
       "      <td>64 GB (eMMC)</td>\n",
       "      <td>1259.0</td>\n",
       "      <td>1259.0</td>\n",
       "    </tr>\n",
       "    <tr>\n",
       "      <th>1</th>\n",
       "      <td>Lenovo</td>\n",
       "      <td>IdeaPad 330S-14IKB</td>\n",
       "      <td>14.0</td>\n",
       "      <td>Intel Core i5-8250U</td>\n",
       "      <td>Intel UHD Graphics 620</td>\n",
       "      <td>1 TB HDD</td>\n",
       "      <td>1849.0</td>\n",
       "      <td>2099.0</td>\n",
       "    </tr>\n",
       "    <tr>\n",
       "      <th>2</th>\n",
       "      <td>Huawei</td>\n",
       "      <td>MateBook D Volta</td>\n",
       "      <td>14.0</td>\n",
       "      <td>Intel Core i5-8250U</td>\n",
       "      <td>NVIDIA GeForce MX150 (2 GB)</td>\n",
       "      <td>256 GB SSD</td>\n",
       "      <td>2999.0</td>\n",
       "      <td>3799.0</td>\n",
       "    </tr>\n",
       "    <tr>\n",
       "      <th>3</th>\n",
       "      <td>Dell</td>\n",
       "      <td>Inspiron 15 3567</td>\n",
       "      <td>15.6</td>\n",
       "      <td>Intel Core i3-7020U</td>\n",
       "      <td>Intel HD Graphics 620</td>\n",
       "      <td>1 TB HDD</td>\n",
       "      <td>1849.0</td>\n",
       "      <td>1849.0</td>\n",
       "    </tr>\n",
       "    <tr>\n",
       "      <th>4</th>\n",
       "      <td>Asus</td>\n",
       "      <td>VivoBook 15 X510UR</td>\n",
       "      <td>15.6</td>\n",
       "      <td>Intel Core i7-8550U</td>\n",
       "      <td>NVIDIA GeForce 930MX (2 GB)</td>\n",
       "      <td>1 TB HDD</td>\n",
       "      <td>2499.0</td>\n",
       "      <td>3149.0</td>\n",
       "    </tr>\n",
       "  </tbody>\n",
       "</table>\n",
       "</div>"
      ],
      "text/plain": [
       "    brand           laptop_name  display_size       processor_type  \\\n",
       "0      HP  Notebook 14-df0008nx          14.0  Intel Celeron N4000   \n",
       "1  Lenovo    IdeaPad 330S-14IKB          14.0  Intel Core i5-8250U   \n",
       "2  Huawei      MateBook D Volta          14.0  Intel Core i5-8250U   \n",
       "3    Dell      Inspiron 15 3567          15.6  Intel Core i3-7020U   \n",
       "4    Asus    VivoBook 15 X510UR          15.6  Intel Core i7-8550U   \n",
       "\n",
       "                 graphics_card    disk_space  discount_price  old_price  \n",
       "0        Intel HD Graphics 600  64 GB (eMMC)          1259.0     1259.0  \n",
       "1       Intel UHD Graphics 620      1 TB HDD          1849.0     2099.0  \n",
       "2  NVIDIA GeForce MX150 (2 GB)    256 GB SSD          2999.0     3799.0  \n",
       "3        Intel HD Graphics 620      1 TB HDD          1849.0     1849.0  \n",
       "4  NVIDIA GeForce 930MX (2 GB)      1 TB HDD          2499.0     3149.0  "
      ]
     },
     "execution_count": 17,
     "metadata": {},
     "output_type": "execute_result"
    }
   ],
   "source": [
    "data.head()"
   ]
  },
  {
   "cell_type": "code",
   "execution_count": 18,
   "metadata": {},
   "outputs": [],
   "source": [
    "data.drop(\"discount_price\",axis=1,inplace=True)"
   ]
  },
  {
   "cell_type": "code",
   "execution_count": 19,
   "metadata": {},
   "outputs": [
    {
     "data": {
      "text/html": [
       "<div>\n",
       "<style scoped>\n",
       "    .dataframe tbody tr th:only-of-type {\n",
       "        vertical-align: middle;\n",
       "    }\n",
       "\n",
       "    .dataframe tbody tr th {\n",
       "        vertical-align: top;\n",
       "    }\n",
       "\n",
       "    .dataframe thead th {\n",
       "        text-align: right;\n",
       "    }\n",
       "</style>\n",
       "<table border=\"1\" class=\"dataframe\">\n",
       "  <thead>\n",
       "    <tr style=\"text-align: right;\">\n",
       "      <th></th>\n",
       "      <th>brand</th>\n",
       "      <th>laptop_name</th>\n",
       "      <th>display_size</th>\n",
       "      <th>processor_type</th>\n",
       "      <th>graphics_card</th>\n",
       "      <th>disk_space</th>\n",
       "      <th>old_price</th>\n",
       "    </tr>\n",
       "  </thead>\n",
       "  <tbody>\n",
       "    <tr>\n",
       "      <th>0</th>\n",
       "      <td>HP</td>\n",
       "      <td>Notebook 14-df0008nx</td>\n",
       "      <td>14.0</td>\n",
       "      <td>Intel Celeron N4000</td>\n",
       "      <td>Intel HD Graphics 600</td>\n",
       "      <td>64 GB (eMMC)</td>\n",
       "      <td>1259.0</td>\n",
       "    </tr>\n",
       "    <tr>\n",
       "      <th>1</th>\n",
       "      <td>Lenovo</td>\n",
       "      <td>IdeaPad 330S-14IKB</td>\n",
       "      <td>14.0</td>\n",
       "      <td>Intel Core i5-8250U</td>\n",
       "      <td>Intel UHD Graphics 620</td>\n",
       "      <td>1 TB HDD</td>\n",
       "      <td>2099.0</td>\n",
       "    </tr>\n",
       "    <tr>\n",
       "      <th>2</th>\n",
       "      <td>Huawei</td>\n",
       "      <td>MateBook D Volta</td>\n",
       "      <td>14.0</td>\n",
       "      <td>Intel Core i5-8250U</td>\n",
       "      <td>NVIDIA GeForce MX150 (2 GB)</td>\n",
       "      <td>256 GB SSD</td>\n",
       "      <td>3799.0</td>\n",
       "    </tr>\n",
       "    <tr>\n",
       "      <th>3</th>\n",
       "      <td>Dell</td>\n",
       "      <td>Inspiron 15 3567</td>\n",
       "      <td>15.6</td>\n",
       "      <td>Intel Core i3-7020U</td>\n",
       "      <td>Intel HD Graphics 620</td>\n",
       "      <td>1 TB HDD</td>\n",
       "      <td>1849.0</td>\n",
       "    </tr>\n",
       "    <tr>\n",
       "      <th>4</th>\n",
       "      <td>Asus</td>\n",
       "      <td>VivoBook 15 X510UR</td>\n",
       "      <td>15.6</td>\n",
       "      <td>Intel Core i7-8550U</td>\n",
       "      <td>NVIDIA GeForce 930MX (2 GB)</td>\n",
       "      <td>1 TB HDD</td>\n",
       "      <td>3149.0</td>\n",
       "    </tr>\n",
       "  </tbody>\n",
       "</table>\n",
       "</div>"
      ],
      "text/plain": [
       "    brand           laptop_name  display_size       processor_type  \\\n",
       "0      HP  Notebook 14-df0008nx          14.0  Intel Celeron N4000   \n",
       "1  Lenovo    IdeaPad 330S-14IKB          14.0  Intel Core i5-8250U   \n",
       "2  Huawei      MateBook D Volta          14.0  Intel Core i5-8250U   \n",
       "3    Dell      Inspiron 15 3567          15.6  Intel Core i3-7020U   \n",
       "4    Asus    VivoBook 15 X510UR          15.6  Intel Core i7-8550U   \n",
       "\n",
       "                 graphics_card    disk_space  old_price  \n",
       "0        Intel HD Graphics 600  64 GB (eMMC)     1259.0  \n",
       "1       Intel UHD Graphics 620      1 TB HDD     2099.0  \n",
       "2  NVIDIA GeForce MX150 (2 GB)    256 GB SSD     3799.0  \n",
       "3        Intel HD Graphics 620      1 TB HDD     1849.0  \n",
       "4  NVIDIA GeForce 930MX (2 GB)      1 TB HDD     3149.0  "
      ]
     },
     "execution_count": 19,
     "metadata": {},
     "output_type": "execute_result"
    }
   ],
   "source": [
    "data.head()"
   ]
  },
  {
   "cell_type": "code",
   "execution_count": 20,
   "metadata": {},
   "outputs": [],
   "source": [
    "data.rename(columns = {\"old_price\":\"price\"},inplace = True)"
   ]
  },
  {
   "cell_type": "code",
   "execution_count": 21,
   "metadata": {},
   "outputs": [
    {
     "data": {
      "text/html": [
       "<div>\n",
       "<style scoped>\n",
       "    .dataframe tbody tr th:only-of-type {\n",
       "        vertical-align: middle;\n",
       "    }\n",
       "\n",
       "    .dataframe tbody tr th {\n",
       "        vertical-align: top;\n",
       "    }\n",
       "\n",
       "    .dataframe thead th {\n",
       "        text-align: right;\n",
       "    }\n",
       "</style>\n",
       "<table border=\"1\" class=\"dataframe\">\n",
       "  <thead>\n",
       "    <tr style=\"text-align: right;\">\n",
       "      <th></th>\n",
       "      <th>brand</th>\n",
       "      <th>laptop_name</th>\n",
       "      <th>display_size</th>\n",
       "      <th>processor_type</th>\n",
       "      <th>graphics_card</th>\n",
       "      <th>disk_space</th>\n",
       "      <th>price</th>\n",
       "    </tr>\n",
       "  </thead>\n",
       "  <tbody>\n",
       "    <tr>\n",
       "      <th>0</th>\n",
       "      <td>HP</td>\n",
       "      <td>Notebook 14-df0008nx</td>\n",
       "      <td>14.0</td>\n",
       "      <td>Intel Celeron N4000</td>\n",
       "      <td>Intel HD Graphics 600</td>\n",
       "      <td>64 GB (eMMC)</td>\n",
       "      <td>1259.0</td>\n",
       "    </tr>\n",
       "    <tr>\n",
       "      <th>1</th>\n",
       "      <td>Lenovo</td>\n",
       "      <td>IdeaPad 330S-14IKB</td>\n",
       "      <td>14.0</td>\n",
       "      <td>Intel Core i5-8250U</td>\n",
       "      <td>Intel UHD Graphics 620</td>\n",
       "      <td>1 TB HDD</td>\n",
       "      <td>2099.0</td>\n",
       "    </tr>\n",
       "    <tr>\n",
       "      <th>2</th>\n",
       "      <td>Huawei</td>\n",
       "      <td>MateBook D Volta</td>\n",
       "      <td>14.0</td>\n",
       "      <td>Intel Core i5-8250U</td>\n",
       "      <td>NVIDIA GeForce MX150 (2 GB)</td>\n",
       "      <td>256 GB SSD</td>\n",
       "      <td>3799.0</td>\n",
       "    </tr>\n",
       "    <tr>\n",
       "      <th>3</th>\n",
       "      <td>Dell</td>\n",
       "      <td>Inspiron 15 3567</td>\n",
       "      <td>15.6</td>\n",
       "      <td>Intel Core i3-7020U</td>\n",
       "      <td>Intel HD Graphics 620</td>\n",
       "      <td>1 TB HDD</td>\n",
       "      <td>1849.0</td>\n",
       "    </tr>\n",
       "    <tr>\n",
       "      <th>4</th>\n",
       "      <td>Asus</td>\n",
       "      <td>VivoBook 15 X510UR</td>\n",
       "      <td>15.6</td>\n",
       "      <td>Intel Core i7-8550U</td>\n",
       "      <td>NVIDIA GeForce 930MX (2 GB)</td>\n",
       "      <td>1 TB HDD</td>\n",
       "      <td>3149.0</td>\n",
       "    </tr>\n",
       "  </tbody>\n",
       "</table>\n",
       "</div>"
      ],
      "text/plain": [
       "    brand           laptop_name  display_size       processor_type  \\\n",
       "0      HP  Notebook 14-df0008nx          14.0  Intel Celeron N4000   \n",
       "1  Lenovo    IdeaPad 330S-14IKB          14.0  Intel Core i5-8250U   \n",
       "2  Huawei      MateBook D Volta          14.0  Intel Core i5-8250U   \n",
       "3    Dell      Inspiron 15 3567          15.6  Intel Core i3-7020U   \n",
       "4    Asus    VivoBook 15 X510UR          15.6  Intel Core i7-8550U   \n",
       "\n",
       "                 graphics_card    disk_space   price  \n",
       "0        Intel HD Graphics 600  64 GB (eMMC)  1259.0  \n",
       "1       Intel UHD Graphics 620      1 TB HDD  2099.0  \n",
       "2  NVIDIA GeForce MX150 (2 GB)    256 GB SSD  3799.0  \n",
       "3        Intel HD Graphics 620      1 TB HDD  1849.0  \n",
       "4  NVIDIA GeForce 930MX (2 GB)      1 TB HDD  3149.0  "
      ]
     },
     "execution_count": 21,
     "metadata": {},
     "output_type": "execute_result"
    }
   ],
   "source": [
    "data.head()"
   ]
  },
  {
   "cell_type": "code",
   "execution_count": 22,
   "metadata": {},
   "outputs": [
    {
     "data": {
      "text/plain": [
       "array(['64 GB (eMMC)', '1 TB HDD', '256 GB SSD', '128 GB SSD/1 TB HDD',\n",
       "       '128 GB (PCIe SSD)', '256 GB NVMe M.2 SSD',\n",
       "       '16 GB (Optane)/1 TB HDD', '512 GB SSD', '128 GB (PCIe Flash)',\n",
       "       '256 GB (PCIe SSD)', '256 GB PCIe NVMe M.2 SSD',\n",
       "       '256 GB M.2 SSD/1 TB HDD', '128 GB M.2 SSD/1 TB HDD',\n",
       "       '256 GB NVMe M.2 SSD/1 TB HDD', '256 GB (PCIe Flash)',\n",
       "       '512 GB NVMe M.2 SSD', '512 GB PCIe NVMe M.2 SSD', '500 GB HDD',\n",
       "       '2 TB HDD', '128 GB M.2 SSD', '256 GB SSD/1 TB HDD',\n",
       "       '1 TB PCIe NVMe M.2 SSD', '128 GB SSD', '32 GB (eMMC)', '1 TB SSD',\n",
       "       '512 GB (PCIe Flash)', '128 GB PCIe NVMe M.2 SSD/1 TB HDD',\n",
       "       '256 GB SSD (Super Raid)/1 TB HDD', '128 GB PCIe NVMe M.2 SSD',\n",
       "       '8 GB (Cache Flash)/1 TB HDD'], dtype=object)"
      ]
     },
     "execution_count": 22,
     "metadata": {},
     "output_type": "execute_result"
    }
   ],
   "source": [
    "data[\"disk_space\"].unique()"
   ]
  },
  {
   "cell_type": "code",
   "execution_count": 23,
   "metadata": {},
   "outputs": [],
   "source": [
    "from sklearn.preprocessing import LabelEncoder\n",
    "labelencoder = LabelEncoder()\n",
    "data[\"brand\"] = labelencoder.fit_transform(data[\"brand\"])"
   ]
  },
  {
   "cell_type": "code",
   "execution_count": 24,
   "metadata": {},
   "outputs": [
    {
     "data": {
      "text/html": [
       "<div>\n",
       "<style scoped>\n",
       "    .dataframe tbody tr th:only-of-type {\n",
       "        vertical-align: middle;\n",
       "    }\n",
       "\n",
       "    .dataframe tbody tr th {\n",
       "        vertical-align: top;\n",
       "    }\n",
       "\n",
       "    .dataframe thead th {\n",
       "        text-align: right;\n",
       "    }\n",
       "</style>\n",
       "<table border=\"1\" class=\"dataframe\">\n",
       "  <thead>\n",
       "    <tr style=\"text-align: right;\">\n",
       "      <th></th>\n",
       "      <th>brand</th>\n",
       "      <th>laptop_name</th>\n",
       "      <th>display_size</th>\n",
       "      <th>processor_type</th>\n",
       "      <th>graphics_card</th>\n",
       "      <th>disk_space</th>\n",
       "      <th>price</th>\n",
       "    </tr>\n",
       "  </thead>\n",
       "  <tbody>\n",
       "    <tr>\n",
       "      <th>0</th>\n",
       "      <td>4</td>\n",
       "      <td>Notebook 14-df0008nx</td>\n",
       "      <td>14.0</td>\n",
       "      <td>Intel Celeron N4000</td>\n",
       "      <td>Intel HD Graphics 600</td>\n",
       "      <td>64 GB (eMMC)</td>\n",
       "      <td>1259.0</td>\n",
       "    </tr>\n",
       "    <tr>\n",
       "      <th>1</th>\n",
       "      <td>6</td>\n",
       "      <td>IdeaPad 330S-14IKB</td>\n",
       "      <td>14.0</td>\n",
       "      <td>Intel Core i5-8250U</td>\n",
       "      <td>Intel UHD Graphics 620</td>\n",
       "      <td>1 TB HDD</td>\n",
       "      <td>2099.0</td>\n",
       "    </tr>\n",
       "    <tr>\n",
       "      <th>2</th>\n",
       "      <td>5</td>\n",
       "      <td>MateBook D Volta</td>\n",
       "      <td>14.0</td>\n",
       "      <td>Intel Core i5-8250U</td>\n",
       "      <td>NVIDIA GeForce MX150 (2 GB)</td>\n",
       "      <td>256 GB SSD</td>\n",
       "      <td>3799.0</td>\n",
       "    </tr>\n",
       "    <tr>\n",
       "      <th>3</th>\n",
       "      <td>3</td>\n",
       "      <td>Inspiron 15 3567</td>\n",
       "      <td>15.6</td>\n",
       "      <td>Intel Core i3-7020U</td>\n",
       "      <td>Intel HD Graphics 620</td>\n",
       "      <td>1 TB HDD</td>\n",
       "      <td>1849.0</td>\n",
       "    </tr>\n",
       "    <tr>\n",
       "      <th>4</th>\n",
       "      <td>2</td>\n",
       "      <td>VivoBook 15 X510UR</td>\n",
       "      <td>15.6</td>\n",
       "      <td>Intel Core i7-8550U</td>\n",
       "      <td>NVIDIA GeForce 930MX (2 GB)</td>\n",
       "      <td>1 TB HDD</td>\n",
       "      <td>3149.0</td>\n",
       "    </tr>\n",
       "  </tbody>\n",
       "</table>\n",
       "</div>"
      ],
      "text/plain": [
       "   brand           laptop_name  display_size       processor_type  \\\n",
       "0      4  Notebook 14-df0008nx          14.0  Intel Celeron N4000   \n",
       "1      6    IdeaPad 330S-14IKB          14.0  Intel Core i5-8250U   \n",
       "2      5      MateBook D Volta          14.0  Intel Core i5-8250U   \n",
       "3      3      Inspiron 15 3567          15.6  Intel Core i3-7020U   \n",
       "4      2    VivoBook 15 X510UR          15.6  Intel Core i7-8550U   \n",
       "\n",
       "                 graphics_card    disk_space   price  \n",
       "0        Intel HD Graphics 600  64 GB (eMMC)  1259.0  \n",
       "1       Intel UHD Graphics 620      1 TB HDD  2099.0  \n",
       "2  NVIDIA GeForce MX150 (2 GB)    256 GB SSD  3799.0  \n",
       "3        Intel HD Graphics 620      1 TB HDD  1849.0  \n",
       "4  NVIDIA GeForce 930MX (2 GB)      1 TB HDD  3149.0  "
      ]
     },
     "execution_count": 24,
     "metadata": {},
     "output_type": "execute_result"
    }
   ],
   "source": [
    "data.head()"
   ]
  },
  {
   "cell_type": "code",
   "execution_count": 25,
   "metadata": {},
   "outputs": [
    {
     "data": {
      "text/plain": [
       "array([4, 6, 5, 3, 2, 1, 0, 8, 7], dtype=int64)"
      ]
     },
     "execution_count": 25,
     "metadata": {},
     "output_type": "execute_result"
    }
   ],
   "source": [
    "data[\"brand\"].unique()"
   ]
  },
  {
   "cell_type": "code",
   "execution_count": 26,
   "metadata": {},
   "outputs": [],
   "source": [
    "data.rename(columns = {\"laptop_name\":\"return_name\"},inplace = True)"
   ]
  },
  {
   "cell_type": "code",
   "execution_count": 27,
   "metadata": {},
   "outputs": [
    {
     "data": {
      "text/html": [
       "<div>\n",
       "<style scoped>\n",
       "    .dataframe tbody tr th:only-of-type {\n",
       "        vertical-align: middle;\n",
       "    }\n",
       "\n",
       "    .dataframe tbody tr th {\n",
       "        vertical-align: top;\n",
       "    }\n",
       "\n",
       "    .dataframe thead th {\n",
       "        text-align: right;\n",
       "    }\n",
       "</style>\n",
       "<table border=\"1\" class=\"dataframe\">\n",
       "  <thead>\n",
       "    <tr style=\"text-align: right;\">\n",
       "      <th></th>\n",
       "      <th>brand</th>\n",
       "      <th>return_name</th>\n",
       "      <th>display_size</th>\n",
       "      <th>processor_type</th>\n",
       "      <th>graphics_card</th>\n",
       "      <th>disk_space</th>\n",
       "      <th>price</th>\n",
       "    </tr>\n",
       "  </thead>\n",
       "  <tbody>\n",
       "    <tr>\n",
       "      <th>0</th>\n",
       "      <td>4</td>\n",
       "      <td>Notebook 14-df0008nx</td>\n",
       "      <td>14.0</td>\n",
       "      <td>Intel Celeron N4000</td>\n",
       "      <td>Intel HD Graphics 600</td>\n",
       "      <td>64 GB (eMMC)</td>\n",
       "      <td>1259.0</td>\n",
       "    </tr>\n",
       "    <tr>\n",
       "      <th>1</th>\n",
       "      <td>6</td>\n",
       "      <td>IdeaPad 330S-14IKB</td>\n",
       "      <td>14.0</td>\n",
       "      <td>Intel Core i5-8250U</td>\n",
       "      <td>Intel UHD Graphics 620</td>\n",
       "      <td>1 TB HDD</td>\n",
       "      <td>2099.0</td>\n",
       "    </tr>\n",
       "    <tr>\n",
       "      <th>2</th>\n",
       "      <td>5</td>\n",
       "      <td>MateBook D Volta</td>\n",
       "      <td>14.0</td>\n",
       "      <td>Intel Core i5-8250U</td>\n",
       "      <td>NVIDIA GeForce MX150 (2 GB)</td>\n",
       "      <td>256 GB SSD</td>\n",
       "      <td>3799.0</td>\n",
       "    </tr>\n",
       "    <tr>\n",
       "      <th>3</th>\n",
       "      <td>3</td>\n",
       "      <td>Inspiron 15 3567</td>\n",
       "      <td>15.6</td>\n",
       "      <td>Intel Core i3-7020U</td>\n",
       "      <td>Intel HD Graphics 620</td>\n",
       "      <td>1 TB HDD</td>\n",
       "      <td>1849.0</td>\n",
       "    </tr>\n",
       "    <tr>\n",
       "      <th>4</th>\n",
       "      <td>2</td>\n",
       "      <td>VivoBook 15 X510UR</td>\n",
       "      <td>15.6</td>\n",
       "      <td>Intel Core i7-8550U</td>\n",
       "      <td>NVIDIA GeForce 930MX (2 GB)</td>\n",
       "      <td>1 TB HDD</td>\n",
       "      <td>3149.0</td>\n",
       "    </tr>\n",
       "  </tbody>\n",
       "</table>\n",
       "</div>"
      ],
      "text/plain": [
       "   brand           return_name  display_size       processor_type  \\\n",
       "0      4  Notebook 14-df0008nx          14.0  Intel Celeron N4000   \n",
       "1      6    IdeaPad 330S-14IKB          14.0  Intel Core i5-8250U   \n",
       "2      5      MateBook D Volta          14.0  Intel Core i5-8250U   \n",
       "3      3      Inspiron 15 3567          15.6  Intel Core i3-7020U   \n",
       "4      2    VivoBook 15 X510UR          15.6  Intel Core i7-8550U   \n",
       "\n",
       "                 graphics_card    disk_space   price  \n",
       "0        Intel HD Graphics 600  64 GB (eMMC)  1259.0  \n",
       "1       Intel UHD Graphics 620      1 TB HDD  2099.0  \n",
       "2  NVIDIA GeForce MX150 (2 GB)    256 GB SSD  3799.0  \n",
       "3        Intel HD Graphics 620      1 TB HDD  1849.0  \n",
       "4  NVIDIA GeForce 930MX (2 GB)      1 TB HDD  3149.0  "
      ]
     },
     "execution_count": 27,
     "metadata": {},
     "output_type": "execute_result"
    }
   ],
   "source": [
    "data.head()"
   ]
  },
  {
   "cell_type": "code",
   "execution_count": 28,
   "metadata": {},
   "outputs": [
    {
     "data": {
      "text/plain": [
       "array(['Intel Celeron N4000', 'Intel Core i5-8250U',\n",
       "       'Intel Core i3-7020U', 'Intel Core i7-8550U',\n",
       "       'Intel Core i5 Dual Core', 'AMD A9-9425', 'Intel Core i7-8565U',\n",
       "       'Intel Core i7 6 Core', 'Intel Core i5 Quad Core',\n",
       "       'Intel Core i5-8265U', 'Intel Core M3', 'Intel Core i7-8750H',\n",
       "       'Intel Core i3-8145U', 'Intel Celeron 4205U',\n",
       "       'Intel Celeron N3060', 'Intel Celeron N3350',\n",
       "       'Intel Core i5-7200U', 'Intel Core i9', 'Intel Core i7-7820HK',\n",
       "       'Intel Core i7-7700HQ', 'Intel Core i7-6700HQ',\n",
       "       'Intel Core i7 Quad Core', 'Intel Core i7-7500U',\n",
       "       'Intel Core i3-5005U', 'Intel Core i3-6006U',\n",
       "       'Intel Core i3-8130U'], dtype=object)"
      ]
     },
     "execution_count": 28,
     "metadata": {},
     "output_type": "execute_result"
    }
   ],
   "source": [
    "data[\"processor_type\"].unique()"
   ]
  },
  {
   "cell_type": "code",
   "execution_count": 29,
   "metadata": {},
   "outputs": [],
   "source": [
    "data[\"processor_type\"] = data[\"processor_type\"].map({'Intel Core i7-8565U':7,'AMD A9-9425':7,'Intel Celeron N4000':3,\"Intel Core i5-8250U\":5,\"Intel Core i3-7020U\":3,\"Intel Core i7-8550U\":7,\"Intel Core i7-8550U\":7,\"Intel Core i5 Dual Core\":5,'AMD A9-9425':5, 'Intel Core i7-8565U':7, 'Intel Core i7 6 Core':7, 'Intel Core i5 Quad Core':5, 'Intel Core i5-8265U':5, 'Intel Core M3':3, 'Intel Core i7-8750H':7,'Intel Core i3-8145U':3, 'Intel Celeron 4205U':3,'Intel Celeron N3060':3, 'Intel Celeron N3350':3,'Intel Core i5-7200U':5, 'Intel Core i9':9, 'Intel Core i7-7820HK':7,'Intel Core i7-7700HQ':7, 'Intel Core i7-6700HQ':7,'Intel Core i7 Quad Core':7, 'Intel Core i7-7500U':7,'Intel Core i3-5005U':3, 'Intel Core i3-6006U':3,'Intel Core i3-8130U':3})"
   ]
  },
  {
   "cell_type": "code",
   "execution_count": 30,
   "metadata": {},
   "outputs": [
    {
     "data": {
      "text/html": [
       "<div>\n",
       "<style scoped>\n",
       "    .dataframe tbody tr th:only-of-type {\n",
       "        vertical-align: middle;\n",
       "    }\n",
       "\n",
       "    .dataframe tbody tr th {\n",
       "        vertical-align: top;\n",
       "    }\n",
       "\n",
       "    .dataframe thead th {\n",
       "        text-align: right;\n",
       "    }\n",
       "</style>\n",
       "<table border=\"1\" class=\"dataframe\">\n",
       "  <thead>\n",
       "    <tr style=\"text-align: right;\">\n",
       "      <th></th>\n",
       "      <th>brand</th>\n",
       "      <th>return_name</th>\n",
       "      <th>display_size</th>\n",
       "      <th>processor_type</th>\n",
       "      <th>graphics_card</th>\n",
       "      <th>disk_space</th>\n",
       "      <th>price</th>\n",
       "    </tr>\n",
       "  </thead>\n",
       "  <tbody>\n",
       "    <tr>\n",
       "      <th>0</th>\n",
       "      <td>4</td>\n",
       "      <td>Notebook 14-df0008nx</td>\n",
       "      <td>14.0</td>\n",
       "      <td>3</td>\n",
       "      <td>Intel HD Graphics 600</td>\n",
       "      <td>64 GB (eMMC)</td>\n",
       "      <td>1259.0</td>\n",
       "    </tr>\n",
       "    <tr>\n",
       "      <th>1</th>\n",
       "      <td>6</td>\n",
       "      <td>IdeaPad 330S-14IKB</td>\n",
       "      <td>14.0</td>\n",
       "      <td>5</td>\n",
       "      <td>Intel UHD Graphics 620</td>\n",
       "      <td>1 TB HDD</td>\n",
       "      <td>2099.0</td>\n",
       "    </tr>\n",
       "    <tr>\n",
       "      <th>2</th>\n",
       "      <td>5</td>\n",
       "      <td>MateBook D Volta</td>\n",
       "      <td>14.0</td>\n",
       "      <td>5</td>\n",
       "      <td>NVIDIA GeForce MX150 (2 GB)</td>\n",
       "      <td>256 GB SSD</td>\n",
       "      <td>3799.0</td>\n",
       "    </tr>\n",
       "    <tr>\n",
       "      <th>3</th>\n",
       "      <td>3</td>\n",
       "      <td>Inspiron 15 3567</td>\n",
       "      <td>15.6</td>\n",
       "      <td>3</td>\n",
       "      <td>Intel HD Graphics 620</td>\n",
       "      <td>1 TB HDD</td>\n",
       "      <td>1849.0</td>\n",
       "    </tr>\n",
       "    <tr>\n",
       "      <th>4</th>\n",
       "      <td>2</td>\n",
       "      <td>VivoBook 15 X510UR</td>\n",
       "      <td>15.6</td>\n",
       "      <td>7</td>\n",
       "      <td>NVIDIA GeForce 930MX (2 GB)</td>\n",
       "      <td>1 TB HDD</td>\n",
       "      <td>3149.0</td>\n",
       "    </tr>\n",
       "  </tbody>\n",
       "</table>\n",
       "</div>"
      ],
      "text/plain": [
       "   brand           return_name  display_size  processor_type  \\\n",
       "0      4  Notebook 14-df0008nx          14.0               3   \n",
       "1      6    IdeaPad 330S-14IKB          14.0               5   \n",
       "2      5      MateBook D Volta          14.0               5   \n",
       "3      3      Inspiron 15 3567          15.6               3   \n",
       "4      2    VivoBook 15 X510UR          15.6               7   \n",
       "\n",
       "                 graphics_card    disk_space   price  \n",
       "0        Intel HD Graphics 600  64 GB (eMMC)  1259.0  \n",
       "1       Intel UHD Graphics 620      1 TB HDD  2099.0  \n",
       "2  NVIDIA GeForce MX150 (2 GB)    256 GB SSD  3799.0  \n",
       "3        Intel HD Graphics 620      1 TB HDD  1849.0  \n",
       "4  NVIDIA GeForce 930MX (2 GB)      1 TB HDD  3149.0  "
      ]
     },
     "execution_count": 30,
     "metadata": {},
     "output_type": "execute_result"
    }
   ],
   "source": [
    "data.head()"
   ]
  },
  {
   "cell_type": "code",
   "execution_count": 31,
   "metadata": {},
   "outputs": [
    {
     "data": {
      "text/plain": [
       "array(['Intel HD Graphics 600', 'Intel UHD Graphics 620',\n",
       "       'NVIDIA GeForce MX150 (2 GB)', 'Intel HD Graphics 620',\n",
       "       'NVIDIA GeForce 930MX (2 GB)', 'AMD Radeon 530 (4 GB)',\n",
       "       'Intel UHD Graphics 617', 'AMD Radeon 530 (2 GB)', 'AMD Radeon R5',\n",
       "       'Intel GMA HD', 'Intel HD Graphics 6000',\n",
       "       'Radeon Pro 555X GDDR5 (4 GB)', 'Intel Iris Plus Graphics 655',\n",
       "       'NVIDIA GeForce MX150 (4 GB)', 'NVIDIA GeForce MX250 (4 GB)',\n",
       "       'NVIDIA GeForce MX110 (2 GB)', 'NVIDIA GeForce MX230 (2 GB)',\n",
       "       'Intel HD Graphics 615', 'NVIDIA GeForce MX130 (4 GB)',\n",
       "       'NVIDIA GeForce GTX 1050 Ti (4 GB)', 'NVIDIA GeForce MX130 (2 GB)',\n",
       "       'AMD Radeon 520 (2 GB)', 'AMD Radeon 530M (4 GB)',\n",
       "       'Intel Graphics 620', 'Intel UHD Graphics 600',\n",
       "       'AMD Radeon 540 (4 GB)', 'NVIDIA GeForce MX250 (2 GB)',\n",
       "       'NVIDIA GeForce GTX 1050 (3 GB)', 'Intel Iris Plus Graphics 645',\n",
       "       'Intel HD Graphics 400', 'Intel Iris Plus Graphics 640',\n",
       "       'Intel HD Graphics 505', 'Intel HD Graphics 500',\n",
       "       'Radeon Pro 560X GDDR5 (4 GB)',\n",
       "       'NVIDIA GeForce GTX 1080 (8 GB) SLI',\n",
       "       'NVIDIA GeForce GTX 1070 (8 GB)', 'NVIDIA GeForce GTX 980M (8 GB)',\n",
       "       'AMD Radeon R9-M370X (2 GB)', 'NVIDIA GeForce GTX 1080 (8 GB)',\n",
       "       'NVIDIA GeForce GTX 1050 (4 GB)', 'Radeon Pro 555 GDDR5 (2 GB)',\n",
       "       'AMD Radeon 535 (2 GB)', 'Intel Iris Pro Graphics',\n",
       "       'Intel Iris Plus Graphics 650', 'Intel HD Graphics 520',\n",
       "       'NVIDIA GeForce GT 940MX (2 GB)', 'AMD Radeon R5-M340 (2 GB)',\n",
       "       'AMD Radeon R7-M445 (4 GB)', 'NVIDIA GeForce 940MX (4 GB)',\n",
       "       'NVIDIA GeForce 940MX (2 GB)', 'Intel Iris Graphics 550',\n",
       "       'AMD Radeon R5-M430 (2 GB)'], dtype=object)"
      ]
     },
     "execution_count": 31,
     "metadata": {},
     "output_type": "execute_result"
    }
   ],
   "source": [
    "data[\"graphics_card\"].unique()"
   ]
  },
  {
   "cell_type": "code",
   "execution_count": 32,
   "metadata": {},
   "outputs": [],
   "source": [
    "data[\"HDD\"] = [(1,2)[x == 7] for x in data[\"processor_type\"]]"
   ]
  },
  {
   "cell_type": "code",
   "execution_count": 33,
   "metadata": {},
   "outputs": [
    {
     "data": {
      "text/html": [
       "<div>\n",
       "<style scoped>\n",
       "    .dataframe tbody tr th:only-of-type {\n",
       "        vertical-align: middle;\n",
       "    }\n",
       "\n",
       "    .dataframe tbody tr th {\n",
       "        vertical-align: top;\n",
       "    }\n",
       "\n",
       "    .dataframe thead th {\n",
       "        text-align: right;\n",
       "    }\n",
       "</style>\n",
       "<table border=\"1\" class=\"dataframe\">\n",
       "  <thead>\n",
       "    <tr style=\"text-align: right;\">\n",
       "      <th></th>\n",
       "      <th>brand</th>\n",
       "      <th>return_name</th>\n",
       "      <th>display_size</th>\n",
       "      <th>processor_type</th>\n",
       "      <th>graphics_card</th>\n",
       "      <th>disk_space</th>\n",
       "      <th>price</th>\n",
       "      <th>HDD</th>\n",
       "    </tr>\n",
       "  </thead>\n",
       "  <tbody>\n",
       "    <tr>\n",
       "      <th>0</th>\n",
       "      <td>4</td>\n",
       "      <td>Notebook 14-df0008nx</td>\n",
       "      <td>14.0</td>\n",
       "      <td>3</td>\n",
       "      <td>Intel HD Graphics 600</td>\n",
       "      <td>64 GB (eMMC)</td>\n",
       "      <td>1259.0</td>\n",
       "      <td>1</td>\n",
       "    </tr>\n",
       "    <tr>\n",
       "      <th>1</th>\n",
       "      <td>6</td>\n",
       "      <td>IdeaPad 330S-14IKB</td>\n",
       "      <td>14.0</td>\n",
       "      <td>5</td>\n",
       "      <td>Intel UHD Graphics 620</td>\n",
       "      <td>1 TB HDD</td>\n",
       "      <td>2099.0</td>\n",
       "      <td>1</td>\n",
       "    </tr>\n",
       "    <tr>\n",
       "      <th>2</th>\n",
       "      <td>5</td>\n",
       "      <td>MateBook D Volta</td>\n",
       "      <td>14.0</td>\n",
       "      <td>5</td>\n",
       "      <td>NVIDIA GeForce MX150 (2 GB)</td>\n",
       "      <td>256 GB SSD</td>\n",
       "      <td>3799.0</td>\n",
       "      <td>1</td>\n",
       "    </tr>\n",
       "    <tr>\n",
       "      <th>3</th>\n",
       "      <td>3</td>\n",
       "      <td>Inspiron 15 3567</td>\n",
       "      <td>15.6</td>\n",
       "      <td>3</td>\n",
       "      <td>Intel HD Graphics 620</td>\n",
       "      <td>1 TB HDD</td>\n",
       "      <td>1849.0</td>\n",
       "      <td>1</td>\n",
       "    </tr>\n",
       "    <tr>\n",
       "      <th>4</th>\n",
       "      <td>2</td>\n",
       "      <td>VivoBook 15 X510UR</td>\n",
       "      <td>15.6</td>\n",
       "      <td>7</td>\n",
       "      <td>NVIDIA GeForce 930MX (2 GB)</td>\n",
       "      <td>1 TB HDD</td>\n",
       "      <td>3149.0</td>\n",
       "      <td>2</td>\n",
       "    </tr>\n",
       "  </tbody>\n",
       "</table>\n",
       "</div>"
      ],
      "text/plain": [
       "   brand           return_name  display_size  processor_type  \\\n",
       "0      4  Notebook 14-df0008nx          14.0               3   \n",
       "1      6    IdeaPad 330S-14IKB          14.0               5   \n",
       "2      5      MateBook D Volta          14.0               5   \n",
       "3      3      Inspiron 15 3567          15.6               3   \n",
       "4      2    VivoBook 15 X510UR          15.6               7   \n",
       "\n",
       "                 graphics_card    disk_space   price  HDD  \n",
       "0        Intel HD Graphics 600  64 GB (eMMC)  1259.0    1  \n",
       "1       Intel UHD Graphics 620      1 TB HDD  2099.0    1  \n",
       "2  NVIDIA GeForce MX150 (2 GB)    256 GB SSD  3799.0    1  \n",
       "3        Intel HD Graphics 620      1 TB HDD  1849.0    1  \n",
       "4  NVIDIA GeForce 930MX (2 GB)      1 TB HDD  3149.0    2  "
      ]
     },
     "execution_count": 33,
     "metadata": {},
     "output_type": "execute_result"
    }
   ],
   "source": [
    "data.head()"
   ]
  },
  {
   "cell_type": "code",
   "execution_count": 34,
   "metadata": {},
   "outputs": [],
   "source": [
    "data[\"ssd\"] = [(256,512)[x==7] for x in data[\"processor_type\"]]"
   ]
  },
  {
   "cell_type": "code",
   "execution_count": 35,
   "metadata": {},
   "outputs": [
    {
     "data": {
      "text/html": [
       "<div>\n",
       "<style scoped>\n",
       "    .dataframe tbody tr th:only-of-type {\n",
       "        vertical-align: middle;\n",
       "    }\n",
       "\n",
       "    .dataframe tbody tr th {\n",
       "        vertical-align: top;\n",
       "    }\n",
       "\n",
       "    .dataframe thead th {\n",
       "        text-align: right;\n",
       "    }\n",
       "</style>\n",
       "<table border=\"1\" class=\"dataframe\">\n",
       "  <thead>\n",
       "    <tr style=\"text-align: right;\">\n",
       "      <th></th>\n",
       "      <th>brand</th>\n",
       "      <th>return_name</th>\n",
       "      <th>display_size</th>\n",
       "      <th>processor_type</th>\n",
       "      <th>graphics_card</th>\n",
       "      <th>disk_space</th>\n",
       "      <th>price</th>\n",
       "      <th>HDD</th>\n",
       "      <th>ssd</th>\n",
       "    </tr>\n",
       "  </thead>\n",
       "  <tbody>\n",
       "    <tr>\n",
       "      <th>0</th>\n",
       "      <td>4</td>\n",
       "      <td>Notebook 14-df0008nx</td>\n",
       "      <td>14.0</td>\n",
       "      <td>3</td>\n",
       "      <td>Intel HD Graphics 600</td>\n",
       "      <td>64 GB (eMMC)</td>\n",
       "      <td>1259.0</td>\n",
       "      <td>1</td>\n",
       "      <td>256</td>\n",
       "    </tr>\n",
       "    <tr>\n",
       "      <th>1</th>\n",
       "      <td>6</td>\n",
       "      <td>IdeaPad 330S-14IKB</td>\n",
       "      <td>14.0</td>\n",
       "      <td>5</td>\n",
       "      <td>Intel UHD Graphics 620</td>\n",
       "      <td>1 TB HDD</td>\n",
       "      <td>2099.0</td>\n",
       "      <td>1</td>\n",
       "      <td>256</td>\n",
       "    </tr>\n",
       "    <tr>\n",
       "      <th>2</th>\n",
       "      <td>5</td>\n",
       "      <td>MateBook D Volta</td>\n",
       "      <td>14.0</td>\n",
       "      <td>5</td>\n",
       "      <td>NVIDIA GeForce MX150 (2 GB)</td>\n",
       "      <td>256 GB SSD</td>\n",
       "      <td>3799.0</td>\n",
       "      <td>1</td>\n",
       "      <td>256</td>\n",
       "    </tr>\n",
       "    <tr>\n",
       "      <th>3</th>\n",
       "      <td>3</td>\n",
       "      <td>Inspiron 15 3567</td>\n",
       "      <td>15.6</td>\n",
       "      <td>3</td>\n",
       "      <td>Intel HD Graphics 620</td>\n",
       "      <td>1 TB HDD</td>\n",
       "      <td>1849.0</td>\n",
       "      <td>1</td>\n",
       "      <td>256</td>\n",
       "    </tr>\n",
       "    <tr>\n",
       "      <th>4</th>\n",
       "      <td>2</td>\n",
       "      <td>VivoBook 15 X510UR</td>\n",
       "      <td>15.6</td>\n",
       "      <td>7</td>\n",
       "      <td>NVIDIA GeForce 930MX (2 GB)</td>\n",
       "      <td>1 TB HDD</td>\n",
       "      <td>3149.0</td>\n",
       "      <td>2</td>\n",
       "      <td>512</td>\n",
       "    </tr>\n",
       "  </tbody>\n",
       "</table>\n",
       "</div>"
      ],
      "text/plain": [
       "   brand           return_name  display_size  processor_type  \\\n",
       "0      4  Notebook 14-df0008nx          14.0               3   \n",
       "1      6    IdeaPad 330S-14IKB          14.0               5   \n",
       "2      5      MateBook D Volta          14.0               5   \n",
       "3      3      Inspiron 15 3567          15.6               3   \n",
       "4      2    VivoBook 15 X510UR          15.6               7   \n",
       "\n",
       "                 graphics_card    disk_space   price  HDD  ssd  \n",
       "0        Intel HD Graphics 600  64 GB (eMMC)  1259.0    1  256  \n",
       "1       Intel UHD Graphics 620      1 TB HDD  2099.0    1  256  \n",
       "2  NVIDIA GeForce MX150 (2 GB)    256 GB SSD  3799.0    1  256  \n",
       "3        Intel HD Graphics 620      1 TB HDD  1849.0    1  256  \n",
       "4  NVIDIA GeForce 930MX (2 GB)      1 TB HDD  3149.0    2  512  "
      ]
     },
     "execution_count": 35,
     "metadata": {},
     "output_type": "execute_result"
    }
   ],
   "source": [
    "data.head()"
   ]
  },
  {
   "cell_type": "code",
   "execution_count": 36,
   "metadata": {},
   "outputs": [],
   "source": [
    "data.drop(\"disk_space\",axis=1,inplace=True)"
   ]
  },
  {
   "cell_type": "code",
   "execution_count": 37,
   "metadata": {},
   "outputs": [
    {
     "data": {
      "text/html": [
       "<div>\n",
       "<style scoped>\n",
       "    .dataframe tbody tr th:only-of-type {\n",
       "        vertical-align: middle;\n",
       "    }\n",
       "\n",
       "    .dataframe tbody tr th {\n",
       "        vertical-align: top;\n",
       "    }\n",
       "\n",
       "    .dataframe thead th {\n",
       "        text-align: right;\n",
       "    }\n",
       "</style>\n",
       "<table border=\"1\" class=\"dataframe\">\n",
       "  <thead>\n",
       "    <tr style=\"text-align: right;\">\n",
       "      <th></th>\n",
       "      <th>brand</th>\n",
       "      <th>return_name</th>\n",
       "      <th>display_size</th>\n",
       "      <th>processor_type</th>\n",
       "      <th>graphics_card</th>\n",
       "      <th>price</th>\n",
       "      <th>HDD</th>\n",
       "      <th>ssd</th>\n",
       "    </tr>\n",
       "  </thead>\n",
       "  <tbody>\n",
       "    <tr>\n",
       "      <th>0</th>\n",
       "      <td>4</td>\n",
       "      <td>Notebook 14-df0008nx</td>\n",
       "      <td>14.0</td>\n",
       "      <td>3</td>\n",
       "      <td>Intel HD Graphics 600</td>\n",
       "      <td>1259.0</td>\n",
       "      <td>1</td>\n",
       "      <td>256</td>\n",
       "    </tr>\n",
       "    <tr>\n",
       "      <th>1</th>\n",
       "      <td>6</td>\n",
       "      <td>IdeaPad 330S-14IKB</td>\n",
       "      <td>14.0</td>\n",
       "      <td>5</td>\n",
       "      <td>Intel UHD Graphics 620</td>\n",
       "      <td>2099.0</td>\n",
       "      <td>1</td>\n",
       "      <td>256</td>\n",
       "    </tr>\n",
       "    <tr>\n",
       "      <th>2</th>\n",
       "      <td>5</td>\n",
       "      <td>MateBook D Volta</td>\n",
       "      <td>14.0</td>\n",
       "      <td>5</td>\n",
       "      <td>NVIDIA GeForce MX150 (2 GB)</td>\n",
       "      <td>3799.0</td>\n",
       "      <td>1</td>\n",
       "      <td>256</td>\n",
       "    </tr>\n",
       "    <tr>\n",
       "      <th>3</th>\n",
       "      <td>3</td>\n",
       "      <td>Inspiron 15 3567</td>\n",
       "      <td>15.6</td>\n",
       "      <td>3</td>\n",
       "      <td>Intel HD Graphics 620</td>\n",
       "      <td>1849.0</td>\n",
       "      <td>1</td>\n",
       "      <td>256</td>\n",
       "    </tr>\n",
       "    <tr>\n",
       "      <th>4</th>\n",
       "      <td>2</td>\n",
       "      <td>VivoBook 15 X510UR</td>\n",
       "      <td>15.6</td>\n",
       "      <td>7</td>\n",
       "      <td>NVIDIA GeForce 930MX (2 GB)</td>\n",
       "      <td>3149.0</td>\n",
       "      <td>2</td>\n",
       "      <td>512</td>\n",
       "    </tr>\n",
       "  </tbody>\n",
       "</table>\n",
       "</div>"
      ],
      "text/plain": [
       "   brand           return_name  display_size  processor_type  \\\n",
       "0      4  Notebook 14-df0008nx          14.0               3   \n",
       "1      6    IdeaPad 330S-14IKB          14.0               5   \n",
       "2      5      MateBook D Volta          14.0               5   \n",
       "3      3      Inspiron 15 3567          15.6               3   \n",
       "4      2    VivoBook 15 X510UR          15.6               7   \n",
       "\n",
       "                 graphics_card   price  HDD  ssd  \n",
       "0        Intel HD Graphics 600  1259.0    1  256  \n",
       "1       Intel UHD Graphics 620  2099.0    1  256  \n",
       "2  NVIDIA GeForce MX150 (2 GB)  3799.0    1  256  \n",
       "3        Intel HD Graphics 620  1849.0    1  256  \n",
       "4  NVIDIA GeForce 930MX (2 GB)  3149.0    2  512  "
      ]
     },
     "execution_count": 37,
     "metadata": {},
     "output_type": "execute_result"
    }
   ],
   "source": [
    "data.head()"
   ]
  },
  {
   "cell_type": "code",
   "execution_count": 38,
   "metadata": {},
   "outputs": [],
   "source": [
    "data[\"graphics_card\"] = data[\"graphics_card\"].map({'Intel HD Graphics 600':1, 'Intel UHD Graphics 620':2,\n",
    "       'NVIDIA GeForce MX150 (2 GB)':1, 'Intel HD Graphics 620':1,\n",
    "       'NVIDIA GeForce 930MX (2 GB)':1, 'AMD Radeon 530 (4 GB)':2,\n",
    "       'Intel UHD Graphics 617':1, 'AMD Radeon 530 (2 GB)':1, 'AMD Radeon R5':1,\n",
    "       'Intel GMA HD':1, 'Intel HD Graphics 6000':1,\n",
    "       'Radeon Pro 555X GDDR5 (4 GB)':2, 'Intel Iris Plus Graphics 655':1,\n",
    "       'NVIDIA GeForce MX150 (4 GB)':1, 'NVIDIA GeForce MX250 (4 GB)':2,\n",
    "       'NVIDIA GeForce MX110 (2 GB)':1, 'NVIDIA GeForce MX230 (2 GB)':1,\n",
    "       'Intel HD Graphics 615':1, 'NVIDIA GeForce MX130 (4 GB)':1,\n",
    "       'NVIDIA GeForce GTX 1050 Ti (4 GB)':2, 'NVIDIA GeForce MX130 (2 GB)':1,\n",
    "       'AMD Radeon 520 (2 GB)':1, 'AMD Radeon 530M (4 GB)':2,\n",
    "       'Intel Graphics 620':1, 'Intel UHD Graphics 600':1,\n",
    "       'AMD Radeon 540 (4 GB)':2, 'NVIDIA GeForce MX250 (2 GB)':1,\n",
    "       'NVIDIA GeForce GTX 1050 (3 GB)':2, 'Intel Iris Plus Graphics 645':1,\n",
    "       'Intel HD Graphics 400':1, 'Intel Iris Plus Graphics 640':1,\n",
    "       'Intel HD Graphics 505':1, 'Intel HD Graphics 500':1,\n",
    "       'Radeon Pro 560X GDDR5 (4 GB)':2,\n",
    "       'NVIDIA GeForce GTX 1080 (8 GB) SLI':3,\n",
    "       'NVIDIA GeForce GTX 1070 (8 GB)':3, 'NVIDIA GeForce GTX 980M (8 GB)':3,\n",
    "       'AMD Radeon R9-M370X (2 GB)':2, 'NVIDIA GeForce GTX 1080 (8 GB)':3,\n",
    "       'NVIDIA GeForce GTX 1050 (4 GB)':2, 'Radeon Pro 555 GDDR5 (2 GB)':1,\n",
    "       'AMD Radeon 535 (2 GB)':1, 'Intel Iris Pro Graphics':1,\n",
    "       'Intel Iris Plus Graphics 650':1, 'Intel HD Graphics 520':1,\n",
    "       'NVIDIA GeForce GT 940MX (2 GB)':1, 'AMD Radeon R5-M340 (2 GB)':1,\n",
    "       'AMD Radeon R7-M445 (4 GB)':2, 'NVIDIA GeForce 940MX (4 GB)':2,\n",
    "       'NVIDIA GeForce 940MX (2 GB)':1, 'Intel Iris Graphics 550':1,\n",
    "       'AMD Radeon R5-M430 (2 GB)':1})"
   ]
  },
  {
   "cell_type": "code",
   "execution_count": 39,
   "metadata": {},
   "outputs": [
    {
     "data": {
      "text/html": [
       "<div>\n",
       "<style scoped>\n",
       "    .dataframe tbody tr th:only-of-type {\n",
       "        vertical-align: middle;\n",
       "    }\n",
       "\n",
       "    .dataframe tbody tr th {\n",
       "        vertical-align: top;\n",
       "    }\n",
       "\n",
       "    .dataframe thead th {\n",
       "        text-align: right;\n",
       "    }\n",
       "</style>\n",
       "<table border=\"1\" class=\"dataframe\">\n",
       "  <thead>\n",
       "    <tr style=\"text-align: right;\">\n",
       "      <th></th>\n",
       "      <th>brand</th>\n",
       "      <th>return_name</th>\n",
       "      <th>display_size</th>\n",
       "      <th>processor_type</th>\n",
       "      <th>graphics_card</th>\n",
       "      <th>price</th>\n",
       "      <th>HDD</th>\n",
       "      <th>ssd</th>\n",
       "    </tr>\n",
       "  </thead>\n",
       "  <tbody>\n",
       "    <tr>\n",
       "      <th>0</th>\n",
       "      <td>4</td>\n",
       "      <td>Notebook 14-df0008nx</td>\n",
       "      <td>14.0</td>\n",
       "      <td>3</td>\n",
       "      <td>1</td>\n",
       "      <td>1259.0</td>\n",
       "      <td>1</td>\n",
       "      <td>256</td>\n",
       "    </tr>\n",
       "    <tr>\n",
       "      <th>1</th>\n",
       "      <td>6</td>\n",
       "      <td>IdeaPad 330S-14IKB</td>\n",
       "      <td>14.0</td>\n",
       "      <td>5</td>\n",
       "      <td>2</td>\n",
       "      <td>2099.0</td>\n",
       "      <td>1</td>\n",
       "      <td>256</td>\n",
       "    </tr>\n",
       "    <tr>\n",
       "      <th>2</th>\n",
       "      <td>5</td>\n",
       "      <td>MateBook D Volta</td>\n",
       "      <td>14.0</td>\n",
       "      <td>5</td>\n",
       "      <td>1</td>\n",
       "      <td>3799.0</td>\n",
       "      <td>1</td>\n",
       "      <td>256</td>\n",
       "    </tr>\n",
       "    <tr>\n",
       "      <th>3</th>\n",
       "      <td>3</td>\n",
       "      <td>Inspiron 15 3567</td>\n",
       "      <td>15.6</td>\n",
       "      <td>3</td>\n",
       "      <td>1</td>\n",
       "      <td>1849.0</td>\n",
       "      <td>1</td>\n",
       "      <td>256</td>\n",
       "    </tr>\n",
       "    <tr>\n",
       "      <th>4</th>\n",
       "      <td>2</td>\n",
       "      <td>VivoBook 15 X510UR</td>\n",
       "      <td>15.6</td>\n",
       "      <td>7</td>\n",
       "      <td>1</td>\n",
       "      <td>3149.0</td>\n",
       "      <td>2</td>\n",
       "      <td>512</td>\n",
       "    </tr>\n",
       "  </tbody>\n",
       "</table>\n",
       "</div>"
      ],
      "text/plain": [
       "   brand           return_name  display_size  processor_type  graphics_card  \\\n",
       "0      4  Notebook 14-df0008nx          14.0               3              1   \n",
       "1      6    IdeaPad 330S-14IKB          14.0               5              2   \n",
       "2      5      MateBook D Volta          14.0               5              1   \n",
       "3      3      Inspiron 15 3567          15.6               3              1   \n",
       "4      2    VivoBook 15 X510UR          15.6               7              1   \n",
       "\n",
       "    price  HDD  ssd  \n",
       "0  1259.0    1  256  \n",
       "1  2099.0    1  256  \n",
       "2  3799.0    1  256  \n",
       "3  1849.0    1  256  \n",
       "4  3149.0    2  512  "
      ]
     },
     "execution_count": 39,
     "metadata": {},
     "output_type": "execute_result"
    }
   ],
   "source": [
    "data.head()"
   ]
  },
  {
   "cell_type": "code",
   "execution_count": 41,
   "metadata": {},
   "outputs": [
    {
     "name": "stdout",
     "output_type": "stream",
     "text": [
      "Cleaned data. Success\n"
     ]
    }
   ],
   "source": [
    "print(\"Cleaned data. Success\")"
   ]
  },
  {
   "cell_type": "code",
   "execution_count": null,
   "metadata": {},
   "outputs": [],
   "source": []
  },
  {
   "cell_type": "markdown",
   "metadata": {},
   "source": [
    "## Here comes the algo"
   ]
  },
  {
   "cell_type": "code",
   "execution_count": 43,
   "metadata": {},
   "outputs": [],
   "source": [
    "#return_name is not a number so I have to remove it\n",
    "X = data[[x for x in data.columns if x!=\"return_name\"]]"
   ]
  },
  {
   "cell_type": "code",
   "execution_count": 45,
   "metadata": {},
   "outputs": [
    {
     "data": {
      "text/plain": [
       "KMeans(algorithm='auto', copy_x=True, init='k-means++', max_iter=300,\n",
       "    n_clusters=5, n_init=10, n_jobs=None, precompute_distances='auto',\n",
       "    random_state=None, tol=0.0001, verbose=0)"
      ]
     },
     "execution_count": 45,
     "metadata": {},
     "output_type": "execute_result"
    }
   ],
   "source": [
    "from sklearn.cluster import KMeans\n",
    "kmeans_model = KMeans(n_clusters=5)\n",
    "\n",
    "#Train\n",
    "kmeans_model.fit(X)"
   ]
  },
  {
   "cell_type": "code",
   "execution_count": 46,
   "metadata": {},
   "outputs": [],
   "source": [
    "y_kmeans = kmeans_model.predict(X)"
   ]
  },
  {
   "cell_type": "code",
   "execution_count": 48,
   "metadata": {},
   "outputs": [
    {
     "data": {
      "text/plain": [
       "array([0, 0, 3, 0, 3, 3, 2, 3, 2, 0, 0, 2, 3, 2, 4, 3, 1, 1, 2, 2, 2, 3,\n",
       "       2, 2, 3, 2, 3, 2, 3, 2, 3, 1, 3, 3, 3, 3, 0, 3, 3, 3, 0, 3, 2, 3,\n",
       "       3, 3, 3, 2, 3, 3, 2, 3, 0, 3, 3, 3, 3, 0, 3, 3, 0, 0, 0, 0, 0, 3,\n",
       "       0, 0, 3, 0, 0, 0, 0, 0, 0, 0, 0, 0, 3, 0, 0, 0, 0, 0, 0, 0, 0, 3,\n",
       "       0, 0, 0, 0, 3, 3, 1, 3, 2, 2, 2, 2, 2, 2, 2, 2, 2, 2, 0, 2, 0, 2,\n",
       "       2, 0, 0, 1, 3, 2, 1, 2, 2, 0, 2, 2, 3, 3, 0, 3, 3, 3, 2, 0, 3, 4,\n",
       "       4, 1, 1, 1, 1, 1, 2, 2, 2, 1, 3, 2, 4, 3, 2, 3, 3, 3, 3, 3, 3, 0,\n",
       "       0, 0, 2, 0, 0, 0, 0, 0, 0, 0, 1, 0, 0, 0, 1, 3, 0, 3, 2, 3, 3, 3,\n",
       "       3, 2, 0, 1, 0, 3, 3, 3, 2, 3, 0, 0, 0, 3, 3, 0, 0, 3, 1, 0, 3, 2,\n",
       "       2, 0, 0, 3, 4, 4, 0])"
      ]
     },
     "execution_count": 48,
     "metadata": {},
     "output_type": "execute_result"
    }
   ],
   "source": [
    "y_kmeans"
   ]
  },
  {
   "cell_type": "code",
   "execution_count": 50,
   "metadata": {},
   "outputs": [
    {
     "name": "stdout",
     "output_type": "stream",
     "text": [
      "Centroids\n"
     ]
    },
    {
     "data": {
      "text/plain": [
       "array([[3.30434783e+00, 1.50898551e+01, 3.95652174e+00, 1.17391304e+00,\n",
       "        1.89073913e+03, 1.01449275e+00, 2.59710145e+02],\n",
       "       [2.06250000e+00, 1.45987500e+01, 6.25000000e+00, 1.56250000e+00,\n",
       "        8.06649688e+03, 1.62500000e+00, 4.16000000e+02],\n",
       "       [2.28888889e+00, 1.36084444e+01, 5.66666667e+00, 1.24444444e+00,\n",
       "        5.76273333e+03, 1.37777778e+00, 3.52711111e+02],\n",
       "       [3.40579710e+00, 1.46275362e+01, 6.21739130e+00, 1.23188406e+00,\n",
       "        3.50624638e+03, 1.60869565e+00, 4.11826087e+02],\n",
       "       [1.00000000e+00, 1.54000000e+01, 7.33333333e+00, 2.00000000e+00,\n",
       "        1.12490000e+04, 1.83333333e+00, 4.69333333e+02]])"
      ]
     },
     "execution_count": 50,
     "metadata": {},
     "output_type": "execute_result"
    }
   ],
   "source": [
    "print(\"Centroids\")\n",
    "kmeans_model.cluster_centers_"
   ]
  },
  {
   "cell_type": "code",
   "execution_count": 65,
   "metadata": {},
   "outputs": [],
   "source": [
    "centroid_positions = kmeans_model.cluster_centers_"
   ]
  },
  {
   "cell_type": "code",
   "execution_count": 58,
   "metadata": {},
   "outputs": [],
   "source": [
    "new_X_centroids = np.zeros((5,5))"
   ]
  },
  {
   "cell_type": "code",
   "execution_count": 59,
   "metadata": {},
   "outputs": [
    {
     "data": {
      "text/plain": [
       "array([[0., 0., 0., 0., 0.],\n",
       "       [0., 0., 0., 0., 0.],\n",
       "       [0., 0., 0., 0., 0.],\n",
       "       [0., 0., 0., 0., 0.],\n",
       "       [0., 0., 0., 0., 0.]])"
      ]
     },
     "execution_count": 59,
     "metadata": {},
     "output_type": "execute_result"
    }
   ],
   "source": [
    "new_X_centroids"
   ]
  },
  {
   "cell_type": "code",
   "execution_count": 62,
   "metadata": {},
   "outputs": [],
   "source": [
    "#Setting values randomly for now but\n",
    "#has to be evaluated by seeing the products\n",
    "new_X_centroids[0,0] = 1\n",
    "new_X_centroids[1,1] = 1\n",
    "new_X_centroids[2,2] = 1\n",
    "new_X_centroids[3,3] = 1\n",
    "new_X_centroids[4,4] = 1"
   ]
  },
  {
   "cell_type": "code",
   "execution_count": 64,
   "metadata": {},
   "outputs": [
    {
     "data": {
      "text/plain": [
       "array([[1., 0., 0., 0., 0.],\n",
       "       [0., 1., 0., 0., 0.],\n",
       "       [0., 0., 1., 0., 0.],\n",
       "       [0., 0., 0., 1., 0.],\n",
       "       [0., 0., 0., 0., 1.]])"
      ]
     },
     "execution_count": 64,
     "metadata": {},
     "output_type": "execute_result"
    }
   ],
   "source": [
    "new_X_centroids"
   ]
  },
  {
   "cell_type": "code",
   "execution_count": 74,
   "metadata": {},
   "outputs": [
    {
     "name": "stdout",
     "output_type": "stream",
     "text": [
      "[1.         0.33820065 0.58543913 0.81503877 0.        ]\n",
      "[0.         1.         0.62610219 0.27945032 0.488813  ]\n",
      "[2.92254554e-01 5.77557083e-01 1.00000000e+00 5.86629464e-01\n",
      " 1.11022302e-16]\n",
      "[0.77309728 0.4150089  0.70296356 1.         0.        ]\n",
      "[0.         0.66169678 0.41425145 0.18484348 1.        ]\n"
     ]
    }
   ],
   "source": [
    "#Diffusion in the data points\n",
    "from sklearn.preprocessing import MinMaxScaler\n",
    "scaler = MinMaxScaler()\n",
    "\n",
    "#Calculate the distance from each centroid\n",
    "#Simply calculating 1 - norm(dist)\n",
    "P_centroids = np.zeros((5,5))\n",
    "for i in range(len(centroid_positions)):\n",
    "    for j in range(len(centroid_positions)):\n",
    "        P_centroids[i, j] = sum(np.sqrt((centroid_positions[i] - centroid_positions[j])**2))\n",
    "    P_centroids[i] = scaler.fit_transform(P_centroids[i].reshape(-1, 1)).reshape(5)\n",
    "    P_centroids[i] = 1 - P_centroids[i]\n",
    "    print(P_centroids[i])"
   ]
  },
  {
   "cell_type": "code",
   "execution_count": 88,
   "metadata": {},
   "outputs": [],
   "source": [
    "#Calculate P value for all the data points\n",
    "P = []\n",
    "for ind, val in enumerate(y_kmeans):\n",
    "    d = sum(np.sqrt((centroid_positions[val] - X.iloc[ind].values)**2))\n",
    "    P.append(d)"
   ]
  },
  {
   "cell_type": "code",
   "execution_count": 93,
   "metadata": {},
   "outputs": [
    {
     "ename": "TypeError",
     "evalue": "only integer scalar arrays can be converted to a scalar index",
     "output_type": "error",
     "traceback": [
      "\u001b[1;31m---------------------------------------------------------------------------\u001b[0m",
      "\u001b[1;31mTypeError\u001b[0m                                 Traceback (most recent call last)",
      "\u001b[1;32m<ipython-input-93-8c4459fa8928>\u001b[0m in \u001b[0;36m<module>\u001b[1;34m\u001b[0m\n\u001b[0;32m      1\u001b[0m \u001b[1;31m#Here i is the GP\u001b[0m\u001b[1;33m\u001b[0m\u001b[1;33m\u001b[0m\u001b[1;33m\u001b[0m\u001b[0m\n\u001b[0;32m      2\u001b[0m \u001b[1;32mfor\u001b[0m \u001b[0mi\u001b[0m \u001b[1;32min\u001b[0m \u001b[0mrange\u001b[0m\u001b[1;33m(\u001b[0m\u001b[1;36m5\u001b[0m\u001b[1;33m)\u001b[0m\u001b[1;33m:\u001b[0m\u001b[1;33m\u001b[0m\u001b[1;33m\u001b[0m\u001b[0m\n\u001b[1;32m----> 3\u001b[1;33m     \u001b[0mprint\u001b[0m\u001b[1;33m(\u001b[0m\u001b[0mP\u001b[0m\u001b[1;33m[\u001b[0m\u001b[0my_kmeans\u001b[0m\u001b[1;33m==\u001b[0m\u001b[0mi\u001b[0m\u001b[1;33m]\u001b[0m\u001b[1;33m)\u001b[0m\u001b[1;33m\u001b[0m\u001b[1;33m\u001b[0m\u001b[0m\n\u001b[0m",
      "\u001b[1;31mTypeError\u001b[0m: only integer scalar arrays can be converted to a scalar index"
     ]
    }
   ],
   "source": [
    "#Here i is the GP\n",
    "for i in range(5):\n",
    "    print(P[y_kmeans==i])"
   ]
  },
  {
   "cell_type": "code",
   "execution_count": 5,
   "metadata": {},
   "outputs": [
    {
     "data": {
      "text/plain": [
       "(205, 9)"
      ]
     },
     "execution_count": 5,
     "metadata": {},
     "output_type": "execute_result"
    }
   ],
   "source": [
    "data.shape"
   ]
  },
  {
   "cell_type": "code",
   "execution_count": 8,
   "metadata": {},
   "outputs": [
    {
     "data": {
      "text/plain": [
       "135"
      ]
     },
     "execution_count": 8,
     "metadata": {},
     "output_type": "execute_result"
    }
   ],
   "source": [
    "len(data['laptop_name'].unique())"
   ]
  },
  {
   "cell_type": "code",
   "execution_count": null,
   "metadata": {},
   "outputs": [],
   "source": []
  }
 ],
 "metadata": {
  "kernelspec": {
   "display_name": "Python 3",
   "language": "python",
   "name": "python3"
  },
  "language_info": {
   "codemirror_mode": {
    "name": "ipython",
    "version": 3
   },
   "file_extension": ".py",
   "mimetype": "text/x-python",
   "name": "python",
   "nbconvert_exporter": "python",
   "pygments_lexer": "ipython3",
   "version": "3.7.3"
  }
 },
 "nbformat": 4,
 "nbformat_minor": 2
}
